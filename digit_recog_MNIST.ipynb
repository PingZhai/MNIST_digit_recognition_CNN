{
 "cells": [
  {
   "cell_type": "code",
   "execution_count": 1,
   "metadata": {},
   "outputs": [
    {
     "name": "stderr",
     "output_type": "stream",
     "text": [
      "Using TensorFlow backend.\n"
     ]
    }
   ],
   "source": [
    "import pandas as pd\n",
    "import numpy as np\n",
    "import os\n",
    "import matplotlib.pyplot as plt\n",
    "import seaborn as sns\n",
    "import keras\n",
    "from collections import Counter\n",
    "from keras.models import Sequential\n",
    "from keras.layers import Conv2D, Dense, MaxPool2D, Dropout, Flatten\n",
    "from keras.optimizers import Adam\n",
    "from keras.preprocessing.image import ImageDataGenerator\n",
    "from keras.callbacks import ReduceLROnPlateau\n",
    "from keras.utils.np_utils import to_categorical\n",
    "from sklearn.model_selection import train_test_split\n",
    "from sklearn.metrics import confusion_matrix"
   ]
  },
  {
   "cell_type": "code",
   "execution_count": 3,
   "metadata": {},
   "outputs": [],
   "source": [
    "os.environ[\"CUDA_VISIBLE_DEVICES\"] = \"0\"   #enable parallel computing using GPU"
   ]
  },
  {
   "cell_type": "code",
   "execution_count": 4,
   "metadata": {},
   "outputs": [
    {
     "name": "stdout",
     "output_type": "stream",
     "text": [
      "training dataset shape:  (42000, 785) ;  testing dataset shape:  (28000, 784)\n"
     ]
    }
   ],
   "source": [
    "df_train = pd.read_csv('C:/Users/pzhai/Google Drive/gdrive/KGL/MNIST/data/train.csv')\n",
    "df_test = pd.read_csv('C:/Users/pzhai/Google Drive/gdrive/KGL/MNIST/data/test.csv')\n",
    "print('training dataset shape: ',df_train.shape,';  testing dataset shape: ',df_test.shape)"
   ]
  },
  {
   "cell_type": "code",
   "execution_count": 5,
   "metadata": {},
   "outputs": [
    {
     "data": {
      "text/html": [
       "<div>\n",
       "<style scoped>\n",
       "    .dataframe tbody tr th:only-of-type {\n",
       "        vertical-align: middle;\n",
       "    }\n",
       "\n",
       "    .dataframe tbody tr th {\n",
       "        vertical-align: top;\n",
       "    }\n",
       "\n",
       "    .dataframe thead th {\n",
       "        text-align: right;\n",
       "    }\n",
       "</style>\n",
       "<table border=\"1\" class=\"dataframe\">\n",
       "  <thead>\n",
       "    <tr style=\"text-align: right;\">\n",
       "      <th></th>\n",
       "      <th>label</th>\n",
       "      <th>pixel0</th>\n",
       "      <th>pixel1</th>\n",
       "      <th>pixel2</th>\n",
       "      <th>pixel3</th>\n",
       "      <th>pixel4</th>\n",
       "      <th>pixel5</th>\n",
       "      <th>pixel6</th>\n",
       "      <th>pixel7</th>\n",
       "      <th>pixel8</th>\n",
       "      <th>...</th>\n",
       "      <th>pixel774</th>\n",
       "      <th>pixel775</th>\n",
       "      <th>pixel776</th>\n",
       "      <th>pixel777</th>\n",
       "      <th>pixel778</th>\n",
       "      <th>pixel779</th>\n",
       "      <th>pixel780</th>\n",
       "      <th>pixel781</th>\n",
       "      <th>pixel782</th>\n",
       "      <th>pixel783</th>\n",
       "    </tr>\n",
       "  </thead>\n",
       "  <tbody>\n",
       "    <tr>\n",
       "      <td>0</td>\n",
       "      <td>1</td>\n",
       "      <td>0</td>\n",
       "      <td>0</td>\n",
       "      <td>0</td>\n",
       "      <td>0</td>\n",
       "      <td>0</td>\n",
       "      <td>0</td>\n",
       "      <td>0</td>\n",
       "      <td>0</td>\n",
       "      <td>0</td>\n",
       "      <td>...</td>\n",
       "      <td>0</td>\n",
       "      <td>0</td>\n",
       "      <td>0</td>\n",
       "      <td>0</td>\n",
       "      <td>0</td>\n",
       "      <td>0</td>\n",
       "      <td>0</td>\n",
       "      <td>0</td>\n",
       "      <td>0</td>\n",
       "      <td>0</td>\n",
       "    </tr>\n",
       "    <tr>\n",
       "      <td>1</td>\n",
       "      <td>0</td>\n",
       "      <td>0</td>\n",
       "      <td>0</td>\n",
       "      <td>0</td>\n",
       "      <td>0</td>\n",
       "      <td>0</td>\n",
       "      <td>0</td>\n",
       "      <td>0</td>\n",
       "      <td>0</td>\n",
       "      <td>0</td>\n",
       "      <td>...</td>\n",
       "      <td>0</td>\n",
       "      <td>0</td>\n",
       "      <td>0</td>\n",
       "      <td>0</td>\n",
       "      <td>0</td>\n",
       "      <td>0</td>\n",
       "      <td>0</td>\n",
       "      <td>0</td>\n",
       "      <td>0</td>\n",
       "      <td>0</td>\n",
       "    </tr>\n",
       "    <tr>\n",
       "      <td>2</td>\n",
       "      <td>1</td>\n",
       "      <td>0</td>\n",
       "      <td>0</td>\n",
       "      <td>0</td>\n",
       "      <td>0</td>\n",
       "      <td>0</td>\n",
       "      <td>0</td>\n",
       "      <td>0</td>\n",
       "      <td>0</td>\n",
       "      <td>0</td>\n",
       "      <td>...</td>\n",
       "      <td>0</td>\n",
       "      <td>0</td>\n",
       "      <td>0</td>\n",
       "      <td>0</td>\n",
       "      <td>0</td>\n",
       "      <td>0</td>\n",
       "      <td>0</td>\n",
       "      <td>0</td>\n",
       "      <td>0</td>\n",
       "      <td>0</td>\n",
       "    </tr>\n",
       "    <tr>\n",
       "      <td>3</td>\n",
       "      <td>4</td>\n",
       "      <td>0</td>\n",
       "      <td>0</td>\n",
       "      <td>0</td>\n",
       "      <td>0</td>\n",
       "      <td>0</td>\n",
       "      <td>0</td>\n",
       "      <td>0</td>\n",
       "      <td>0</td>\n",
       "      <td>0</td>\n",
       "      <td>...</td>\n",
       "      <td>0</td>\n",
       "      <td>0</td>\n",
       "      <td>0</td>\n",
       "      <td>0</td>\n",
       "      <td>0</td>\n",
       "      <td>0</td>\n",
       "      <td>0</td>\n",
       "      <td>0</td>\n",
       "      <td>0</td>\n",
       "      <td>0</td>\n",
       "    </tr>\n",
       "    <tr>\n",
       "      <td>4</td>\n",
       "      <td>0</td>\n",
       "      <td>0</td>\n",
       "      <td>0</td>\n",
       "      <td>0</td>\n",
       "      <td>0</td>\n",
       "      <td>0</td>\n",
       "      <td>0</td>\n",
       "      <td>0</td>\n",
       "      <td>0</td>\n",
       "      <td>0</td>\n",
       "      <td>...</td>\n",
       "      <td>0</td>\n",
       "      <td>0</td>\n",
       "      <td>0</td>\n",
       "      <td>0</td>\n",
       "      <td>0</td>\n",
       "      <td>0</td>\n",
       "      <td>0</td>\n",
       "      <td>0</td>\n",
       "      <td>0</td>\n",
       "      <td>0</td>\n",
       "    </tr>\n",
       "  </tbody>\n",
       "</table>\n",
       "<p>5 rows × 785 columns</p>\n",
       "</div>"
      ],
      "text/plain": [
       "   label  pixel0  pixel1  pixel2  pixel3  pixel4  pixel5  pixel6  pixel7  \\\n",
       "0      1       0       0       0       0       0       0       0       0   \n",
       "1      0       0       0       0       0       0       0       0       0   \n",
       "2      1       0       0       0       0       0       0       0       0   \n",
       "3      4       0       0       0       0       0       0       0       0   \n",
       "4      0       0       0       0       0       0       0       0       0   \n",
       "\n",
       "   pixel8  ...  pixel774  pixel775  pixel776  pixel777  pixel778  pixel779  \\\n",
       "0       0  ...         0         0         0         0         0         0   \n",
       "1       0  ...         0         0         0         0         0         0   \n",
       "2       0  ...         0         0         0         0         0         0   \n",
       "3       0  ...         0         0         0         0         0         0   \n",
       "4       0  ...         0         0         0         0         0         0   \n",
       "\n",
       "   pixel780  pixel781  pixel782  pixel783  \n",
       "0         0         0         0         0  \n",
       "1         0         0         0         0  \n",
       "2         0         0         0         0  \n",
       "3         0         0         0         0  \n",
       "4         0         0         0         0  \n",
       "\n",
       "[5 rows x 785 columns]"
      ]
     },
     "execution_count": 5,
     "metadata": {},
     "output_type": "execute_result"
    }
   ],
   "source": [
    "df_train.head()   #show the first 5 rows in training dataset"
   ]
  },
  {
   "cell_type": "markdown",
   "metadata": {},
   "source": [
    "**The training dataset includes digit label and values of 28*28 pixels.**"
   ]
  },
  {
   "cell_type": "code",
   "execution_count": 6,
   "metadata": {},
   "outputs": [
    {
     "data": {
      "text/plain": [
       "1    4684\n",
       "7    4401\n",
       "3    4351\n",
       "9    4188\n",
       "2    4177\n",
       "6    4137\n",
       "0    4132\n",
       "4    4072\n",
       "8    4063\n",
       "5    3795\n",
       "Name: label, dtype: int64"
      ]
     },
     "execution_count": 6,
     "metadata": {},
     "output_type": "execute_result"
    }
   ],
   "source": [
    "df_train['label'].value_counts()"
   ]
  },
  {
   "cell_type": "markdown",
   "metadata": {},
   "source": [
    "**The value counts of label in training dataset show that the label is pretty balanced, so that we can use accuracy to measure the model's performance.**"
   ]
  },
  {
   "cell_type": "code",
   "execution_count": 7,
   "metadata": {},
   "outputs": [],
   "source": [
    "X_train=df_train.drop(['label'],1).values   #separate the training dataset into X and y\n",
    "y_train=df_train['label'].values\n",
    "X_test=df_test.values"
   ]
  },
  {
   "cell_type": "code",
   "execution_count": 8,
   "metadata": {},
   "outputs": [],
   "source": [
    "X_train=X_train/255.0\n",
    "X_test=X_test/255.0\n",
    "X_train=X_train.reshape(-1,28,28,1)      #reshape the data to a shape that keras accepts. \n",
    "X_test=X_test.reshape(-1,28,28,1)\n",
    "y_train=to_categorical(y_train)          # categorize label to the format that keras accepts."
   ]
  },
  {
   "cell_type": "markdown",
   "metadata": {},
   "source": [
    "**Split the training dataset into training and validating datasets with the validating size of 0.2 of total data.**"
   ]
  },
  {
   "cell_type": "code",
   "execution_count": 9,
   "metadata": {},
   "outputs": [],
   "source": [
    "X_train,X_val,y_train,y_val=train_test_split(X_train,y_train,test_size=0.1,random_state=42)\n"
   ]
  },
  {
   "cell_type": "code",
   "execution_count": 10,
   "metadata": {},
   "outputs": [
    {
     "data": {
      "image/png": "[encoded data removed]",
      "text/plain": [
       "<Figure size 432x288 with 16 Axes>"
      ]
     },
     "metadata": {
      "needs_background": "light"
     },
     "output_type": "display_data"
    }
   ],
   "source": [
    "for i in range(16):\n",
    "    # define subplot\n",
    "    digit=y_train[i].argmax()\n",
    "    plt.subplot(4, 4, 1 + i)\n",
    "    # turn off axis\n",
    "    plt.axis('off')\n",
    "    # plot raw pixel data\n",
    "    plt.imshow(X_train[i,:,:,0], cmap='gray_r')\n",
    "    plt.title(\"          \"+str(digit))\n",
    "plt.show()"
   ]
  },
  {
   "cell_type": "markdown",
   "metadata": {},
   "source": [
    "**model1: build LeNet CNN**\n"
   ]
  },
  {
   "cell_type": "code",
   "execution_count": 11,
   "metadata": {},
   "outputs": [],
   "source": [
    "model1 = Sequential()\n",
    "model1.add(Conv2D(filters=32, kernel_size=(5,5), padding='same', activation='relu', input_shape=(28, 28, 1)))\n",
    "model1.add(MaxPool2D(strides=2))\n",
    "model1.add(Conv2D(filters=48, kernel_size=(5,5), padding='valid', activation='relu'))\n",
    "model1.add(MaxPool2D(strides=2))\n",
    "model1.add(Flatten())\n",
    "model1.add(Dense(128, activation='relu'))\n",
    "model1.add(Dense(64, activation='relu'))\n",
    "model1.add(Dense(10, activation='softmax'))\n",
    "model1.compile(loss='categorical_crossentropy',optimizer='adam',metrics=['accuracy'])\n"
   ]
  },
  {
   "cell_type": "code",
   "execution_count": 13,
   "metadata": {},
   "outputs": [],
   "source": [
    "model1.compile(loss='categorical_crossentropy',optimizer='adam',metrics=['accuracy'])\n"
   ]
  },
  {
   "cell_type": "code",
   "execution_count": 15,
   "metadata": {},
   "outputs": [
    {
     "name": "stdout",
     "output_type": "stream",
     "text": [
      "Model: \"sequential_2\"\n",
      "_________________________________________________________________\n",
      "Layer (type)                 Output Shape              Param #   \n",
      "=================================================================\n",
      "conv2d_3 (Conv2D)            (None, 28, 28, 32)        832       \n",
      "_________________________________________________________________\n",
      "max_pooling2d_3 (MaxPooling2 (None, 14, 14, 32)        0         \n",
      "_________________________________________________________________\n",
      "conv2d_4 (Conv2D)            (None, 10, 10, 48)        38448     \n",
      "_________________________________________________________________\n",
      "max_pooling2d_4 (MaxPooling2 (None, 5, 5, 48)          0         \n",
      "_________________________________________________________________\n",
      "flatten_2 (Flatten)          (None, 1200)              0         \n",
      "_________________________________________________________________\n",
      "dense_4 (Dense)              (None, 128)               153728    \n",
      "_________________________________________________________________\n",
      "dense_5 (Dense)              (None, 64)                8256      \n",
      "_________________________________________________________________\n",
      "dense_6 (Dense)              (None, 10)                650       \n",
      "=================================================================\n",
      "Total params: 201,914\n",
      "Trainable params: 201,914\n",
      "Non-trainable params: 0\n",
      "_________________________________________________________________\n"
     ]
    }
   ],
   "source": [
    "model1.summary()"
   ]
  },
  {
   "cell_type": "markdown",
   "metadata": {},
   "source": [
    "**Train the model.**"
   ]
  },
  {
   "cell_type": "code",
   "execution_count": 16,
   "metadata": {},
   "outputs": [
    {
     "name": "stdout",
     "output_type": "stream",
     "text": [
      "WARNING:tensorflow:From C:\\Users\\pzhai\\AppData\\Local\\Continuum\\anaconda3\\lib\\site-packages\\keras\\backend\\tensorflow_backend.py:422: The name tf.global_variables is deprecated. Please use tf.compat.v1.global_variables instead.\n",
      "\n",
      "Train on 33600 samples, validate on 8400 samples\n",
      "Epoch 1/50\n",
      "33600/33600 [==============================] - 50s 1ms/step - loss: 0.2216 - accuracy: 0.9316 - val_loss: 0.0783 - val_accuracy: 0.9750\n",
      "Epoch 2/50\n",
      "33600/33600 [==============================] - 50s 1ms/step - loss: 0.0604 - accuracy: 0.9810 - val_loss: 0.0547 - val_accuracy: 0.9812\n",
      "Epoch 3/50\n",
      "33600/33600 [==============================] - 49s 1ms/step - loss: 0.0417 - accuracy: 0.9861 - val_loss: 0.0396 - val_accuracy: 0.9877\n",
      "Epoch 4/50\n",
      "33600/33600 [==============================] - 48s 1ms/step - loss: 0.0315 - accuracy: 0.9895 - val_loss: 0.0367 - val_accuracy: 0.9877\n",
      "Epoch 5/50\n",
      "33600/33600 [==============================] - 49s 1ms/step - loss: 0.0247 - accuracy: 0.9927 - val_loss: 0.0349 - val_accuracy: 0.9899\n",
      "Epoch 6/50\n",
      "33600/33600 [==============================] - 56s 2ms/step - loss: 0.0178 - accuracy: 0.9943 - val_loss: 0.0411 - val_accuracy: 0.9883\n",
      "Epoch 7/50\n",
      "33600/33600 [==============================] - 57s 2ms/step - loss: 0.0159 - accuracy: 0.9949 - val_loss: 0.0404 - val_accuracy: 0.9868\n",
      "Epoch 8/50\n",
      "33600/33600 [==============================] - 48s 1ms/step - loss: 0.0156 - accuracy: 0.9947 - val_loss: 0.0419 - val_accuracy: 0.9874\n",
      "Epoch 9/50\n",
      "33600/33600 [==============================] - 55s 2ms/step - loss: 0.0127 - accuracy: 0.9959 - val_loss: 0.0354 - val_accuracy: 0.9901\n",
      "Epoch 10/50\n",
      "33600/33600 [==============================] - 53s 2ms/step - loss: 0.0095 - accuracy: 0.9967 - val_loss: 0.0462 - val_accuracy: 0.9867\n",
      "Epoch 11/50\n",
      "33600/33600 [==============================] - 48s 1ms/step - loss: 0.0092 - accuracy: 0.9969 - val_loss: 0.0438 - val_accuracy: 0.9890\n",
      "Epoch 12/50\n",
      "33600/33600 [==============================] - 53s 2ms/step - loss: 0.0110 - accuracy: 0.9963 - val_loss: 0.0393 - val_accuracy: 0.9890\n",
      "Epoch 13/50\n",
      "33600/33600 [==============================] - 55s 2ms/step - loss: 0.0068 - accuracy: 0.9978 - val_loss: 0.0476 - val_accuracy: 0.9904\n",
      "Epoch 14/50\n",
      "33600/33600 [==============================] - 53s 2ms/step - loss: 0.0063 - accuracy: 0.9977 - val_loss: 0.0360 - val_accuracy: 0.9912\n",
      "Epoch 15/50\n",
      "33600/33600 [==============================] - 52s 2ms/step - loss: 0.0065 - accuracy: 0.9979 - val_loss: 0.0441 - val_accuracy: 0.9900\n",
      "Epoch 16/50\n",
      "33600/33600 [==============================] - 49s 1ms/step - loss: 0.0065 - accuracy: 0.9984 - val_loss: 0.0355 - val_accuracy: 0.9915\n",
      "Epoch 17/50\n",
      "33600/33600 [==============================] - 47s 1ms/step - loss: 0.0073 - accuracy: 0.9976 - val_loss: 0.0435 - val_accuracy: 0.9906\n",
      "Epoch 18/50\n",
      "33600/33600 [==============================] - 48s 1ms/step - loss: 0.0033 - accuracy: 0.9990 - val_loss: 0.0664 - val_accuracy: 0.9877\n",
      "Epoch 19/50\n",
      "33600/33600 [==============================] - 49s 1ms/step - loss: 0.0073 - accuracy: 0.9979 - val_loss: 0.0613 - val_accuracy: 0.9883\n",
      "Epoch 20/50\n",
      "33600/33600 [==============================] - 48s 1ms/step - loss: 0.0047 - accuracy: 0.9986 - val_loss: 0.0504 - val_accuracy: 0.9888\n",
      "Epoch 21/50\n",
      "33600/33600 [==============================] - 49s 1ms/step - loss: 0.0035 - accuracy: 0.9990 - val_loss: 0.0483 - val_accuracy: 0.9896\n",
      "Epoch 22/50\n",
      "33600/33600 [==============================] - 47s 1ms/step - loss: 0.0071 - accuracy: 0.9976 - val_loss: 0.0365 - val_accuracy: 0.9917\n",
      "Epoch 23/50\n",
      "33600/33600 [==============================] - 48s 1ms/step - loss: 0.0039 - accuracy: 0.9987 - val_loss: 0.0414 - val_accuracy: 0.9910\n",
      "Epoch 24/50\n",
      "33600/33600 [==============================] - 49s 1ms/step - loss: 0.0038 - accuracy: 0.9988 - val_loss: 0.0470 - val_accuracy: 0.9906\n",
      "Epoch 25/50\n",
      "33600/33600 [==============================] - 48s 1ms/step - loss: 0.0048 - accuracy: 0.9985 - val_loss: 0.0437 - val_accuracy: 0.9914\n",
      "Epoch 26/50\n",
      "33600/33600 [==============================] - 47s 1ms/step - loss: 0.0023 - accuracy: 0.9994 - val_loss: 0.0499 - val_accuracy: 0.9915\n",
      "Epoch 27/50\n",
      "33600/33600 [==============================] - 47s 1ms/step - loss: 0.0014 - accuracy: 0.9996 - val_loss: 0.0480 - val_accuracy: 0.9915\n",
      "Epoch 28/50\n",
      "33600/33600 [==============================] - 47s 1ms/step - loss: 0.0022 - accuracy: 0.9995 - val_loss: 0.0528 - val_accuracy: 0.9911\n",
      "Epoch 29/50\n",
      "33600/33600 [==============================] - 48s 1ms/step - loss: 0.0092 - accuracy: 0.9972 - val_loss: 0.0525 - val_accuracy: 0.9914\n",
      "Epoch 30/50\n",
      "33600/33600 [==============================] - 48s 1ms/step - loss: 0.0044 - accuracy: 0.9985 - val_loss: 0.0433 - val_accuracy: 0.9915\n",
      "Epoch 31/50\n",
      "33600/33600 [==============================] - 49s 1ms/step - loss: 0.0023 - accuracy: 0.9995 - val_loss: 0.0513 - val_accuracy: 0.9921\n",
      "Epoch 32/50\n",
      "33600/33600 [==============================] - 47s 1ms/step - loss: 0.0016 - accuracy: 0.9997 - val_loss: 0.0548 - val_accuracy: 0.9907\n",
      "Epoch 33/50\n",
      "33600/33600 [==============================] - 47s 1ms/step - loss: 0.0058 - accuracy: 0.9985 - val_loss: 0.0512 - val_accuracy: 0.9904\n",
      "Epoch 34/50\n",
      "33600/33600 [==============================] - 47s 1ms/step - loss: 0.0025 - accuracy: 0.9993 - val_loss: 0.0465 - val_accuracy: 0.9919\n",
      "Epoch 35/50\n",
      "33600/33600 [==============================] - 47s 1ms/step - loss: 9.9260e-04 - accuracy: 0.9997 - val_loss: 0.0569 - val_accuracy: 0.9904\n",
      "Epoch 36/50\n",
      "33600/33600 [==============================] - 48s 1ms/step - loss: 0.0087 - accuracy: 0.9977 - val_loss: 0.0513 - val_accuracy: 0.9894\n",
      "Epoch 37/50\n",
      "33600/33600 [==============================] - 49s 1ms/step - loss: 0.0020 - accuracy: 0.9993 - val_loss: 0.0530 - val_accuracy: 0.9895\n",
      "Epoch 38/50\n",
      "33600/33600 [==============================] - 47s 1ms/step - loss: 1.3117e-04 - accuracy: 1.0000 - val_loss: 0.0422 - val_accuracy: 0.9923\n",
      "Epoch 39/50\n",
      "33600/33600 [==============================] - 48s 1ms/step - loss: 1.3508e-05 - accuracy: 1.0000 - val_loss: 0.0425 - val_accuracy: 0.9923\n",
      "Epoch 40/50\n",
      "33600/33600 [==============================] - 47s 1ms/step - loss: 8.7099e-06 - accuracy: 1.0000 - val_loss: 0.0429 - val_accuracy: 0.9925\n",
      "Epoch 41/50\n",
      "33600/33600 [==============================] - 47s 1ms/step - loss: 6.3027e-06 - accuracy: 1.0000 - val_loss: 0.0433 - val_accuracy: 0.9926\n",
      "Epoch 42/50\n",
      "33600/33600 [==============================] - 47s 1ms/step - loss: 4.6793e-06 - accuracy: 1.0000 - val_loss: 0.0438 - val_accuracy: 0.9927\n",
      "Epoch 43/50\n",
      "33600/33600 [==============================] - 48s 1ms/step - loss: 3.5109e-06 - accuracy: 1.0000 - val_loss: 0.0444 - val_accuracy: 0.9929\n",
      "Epoch 44/50\n",
      "33600/33600 [==============================] - 48s 1ms/step - loss: 2.6526e-06 - accuracy: 1.0000 - val_loss: 0.0449 - val_accuracy: 0.9926\n",
      "Epoch 45/50\n",
      "33600/33600 [==============================] - 46s 1ms/step - loss: 2.0214e-06 - accuracy: 1.0000 - val_loss: 0.0454 - val_accuracy: 0.9926\n",
      "Epoch 46/50\n",
      "33600/33600 [==============================] - 47s 1ms/step - loss: 1.5386e-06 - accuracy: 1.0000 - val_loss: 0.0460 - val_accuracy: 0.9926\n",
      "Epoch 47/50\n",
      "33600/33600 [==============================] - 49s 1ms/step - loss: 1.1667e-06 - accuracy: 1.0000 - val_loss: 0.0467 - val_accuracy: 0.9926\n",
      "Epoch 48/50\n",
      "33600/33600 [==============================] - 48s 1ms/step - loss: 8.8251e-07 - accuracy: 1.0000 - val_loss: 0.0473 - val_accuracy: 0.9929\n",
      "Epoch 49/50\n",
      "33600/33600 [==============================] - 49s 1ms/step - loss: 6.6857e-07 - accuracy: 1.0000 - val_loss: 0.0479 - val_accuracy: 0.9929\n",
      "Epoch 50/50\n",
      "33600/33600 [==============================] - 49s 1ms/step - loss: 5.0533e-07 - accuracy: 1.0000 - val_loss: 0.0486 - val_accuracy: 0.9926\n"
     ]
    }
   ],
   "source": [
    "history1=model1.fit(X_train, y_train, batch_size=64, epochs=50,validation_data=(X_val,y_val))"
   ]
  },
  {
   "cell_type": "markdown",
   "metadata": {},
   "source": [
    "**Predict the label of testing dataset using the trained model, and save the results in csv file.**"
   ]
  },
  {
   "cell_type": "code",
   "execution_count": 17,
   "metadata": {},
   "outputs": [],
   "source": [
    "y_test_predict_prob=model1.predict(X_test)\n",
    "y_test_predict=np.zeros((len(X_test),2))\n",
    "for i in range(0,len(X_test)):\n",
    "    y_test_predict[i,0]=i+1\n",
    "    y_test_predict[i,1]=np.argmax(y_test_predict_prob[i,:])\n",
    "pd.DataFrame(y_test_predict,columns=['ImageId','Label']).to_csv('digit_predict_test.csv',index=False)\n"
   ]
  },
  {
   "cell_type": "code",
   "execution_count": 21,
   "metadata": {},
   "outputs": [
    {
     "data": {
      "image/png": "[encoded data removed]",
      "text/plain": [
       "<Figure size 432x288 with 1 Axes>"
      ]
     },
     "metadata": {
      "needs_background": "light"
     },
     "output_type": "display_data"
    }
   ],
   "source": [
    "plt.plot(history1.history['accuracy'])\n",
    "plt.plot(history1.history['val_accuracy'])\n",
    "plt.title('Model accuracy')\n",
    "plt.ylabel('Accuracy')\n",
    "plt.xlabel('Epoch')\n",
    "plt.legend(['Training', 'Validation'], loc='lower right')\n",
    "plt.show()"
   ]
  },
  {
   "cell_type": "code",
   "execution_count": null,
   "metadata": {},
   "outputs": [],
   "source": []
  }
 ],
 "metadata": {
  "kernelspec": {
   "display_name": "Python 3",
   "language": "python",
   "name": "python3"
  },
  "language_info": {
   "codemirror_mode": {
    "name": "ipython",
    "version": 3
   },
   "file_extension": ".py",
   "mimetype": "text/x-python",
   "name": "python",
   "nbconvert_exporter": "python",
   "pygments_lexer": "ipython3",
   "version": "3.7.4"
  }
 },
 "nbformat": 4,
 "nbformat_minor": 2
}
